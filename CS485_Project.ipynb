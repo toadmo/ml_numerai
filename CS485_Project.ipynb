{
  "nbformat": 4,
  "nbformat_minor": 0,
  "metadata": {
    "colab": {
      "name": "CS485_Project.ipynb",
      "provenance": []
    },
    "kernelspec": {
      "name": "python392jvsc74a57bd08fe077956e84e6b59f116a7e9738aabbdf5e9bca6b48786bc1c1513955207840",
      "display_name": "Python 3.9.2 64-bit"
    },
    "language_info": {
      "name": "python",
      "version": "3.9.2"
    },
    "metadata": {
      "interpreter": {
        "hash": "8fe077956e84e6b59f116a7e9738aabbdf5e9bca6b48786bc1c1513955207840"
      }
    }
  },
  "cells": [
    {
      "cell_type": "markdown",
      "metadata": {
        "id": "YJ-thlkU_jMa"
      },
      "source": [
        "# 1. Dependencies"
      ]
    },
    {
      "cell_type": "code",
      "metadata": {
        "colab": {
          "base_uri": "https://localhost:8080/"
        },
        "id": "iASoq88Q_PJB",
        "outputId": "a1607133-9ff1-48ac-88d8-155a0b62c51b"
      },
      "source": [
        "# Install Dependencies\n",
        "!pip install pandas sklearn numerapi"
      ],
      "execution_count": null,
      "outputs": []
    },
    {
      "cell_type": "code",
      "metadata": {
        "id": "1_mY2fHK_YrS"
      },
      "source": [
        "# Import Dependencies\n",
        "import pandas as pd\n",
        "import numerapi\n",
        "import numpy as np\n",
        "from tensorflow.keras.callbacks import ModelCheckpoint, LambdaCallback, EarlyStopping, ReduceLROnPlateau\n",
        "from tensorflow.keras.layers import Dense, Dropout, BatchNormalization, Activation\n",
        "from tensorflow.keras.models import Sequential, load_model\n",
        "from tensorflow.keras.optimizers import RMSprop, Adam\n",
        "from sklearn.model_selection import train_test_split, GroupKFold, GridSearchCV\n",
        "from keras.wrappers.scikit_learn import KerasClassifier\n",
        "from tensorflow.keras.utils import to_categorical"
      ],
      "execution_count": null,
      "outputs": []
    },
    {
      "cell_type": "markdown",
      "metadata": {
        "id": "WUk0RCWXWrUP"
      },
      "source": [
        "# Numer.ai API setup"
      ]
    },
    {
      "cell_type": "code",
      "metadata": {
        "id": "gnuUeSAiWvPf"
      },
      "source": [
        "# Get your API keys and model_id from https://numer.ai/submit\n",
        "public_id = \"YBZ4PFZHNJRZ4HHYP3CHNO2FPMKO3JBM\"\n",
        "secret_key = \"SIEURFNDA6RDCNLKOLH7CPPW2BICB7RCF5JOFT3LOZUGSCCCHMJUBTBQ5W5MLS4Y\"\n",
        "model_id = \"8583fec3-2bcd-49ed-9fde-7ada547acc66\"\n",
        "napi = numerapi.NumerAPI(public_id=public_id, secret_key=secret_key)"
      ],
      "execution_count": null,
      "outputs": []
    },
    {
      "cell_type": "markdown",
      "metadata": {
        "id": "sUEh-z4D_hBK"
      },
      "source": [
        "# 2. Download Data Sets\n",
        "\n",
        "### Datasets \n",
        "*   `training_data` is used to train the model\n",
        "*   `tournament_data` is used to evaluate the model\n",
        "\n",
        "### Column descriptions\n",
        "*   id: a randomized id that corresponds to a stock \n",
        "*   era: a period of time\n",
        "*   data_type: either `train`, `validation`, `test`, or `live` \n",
        "*   feature_*: abstract financial features of the stock \n",
        "*   target: abstract measure of stock performance\n"
      ]
    },
    {
      "cell_type": "code",
      "metadata": {
        "id": "0_WfC75D_sFk"
      },
      "source": [
        "# Download Training Data From Numer.ai (30 secs)\n",
        "trainingData = pd.read_csv(\"https://numerai-public-datasets.s3-us-west-2.amazonaws.com/latest_numerai_training_data.csv.xz\", header=0)"
      ],
      "execution_count": 69,
      "outputs": []
    },
    {
      "cell_type": "code",
      "execution_count": 70,
      "metadata": {},
      "outputs": [],
      "source": [
        "# Download Tournament Data From Numer.ai (30 secs)\n",
        "tournamentData = pd.read_csv(\"https://numerai-public-datasets.s3-us-west-2.amazonaws.com/latest_numerai_tournament_data.csv.xz\", header=0)"
      ]
    },
    {
      "source": [
        "# 3. Explore The Dataset"
      ],
      "cell_type": "markdown",
      "metadata": {}
    },
    {
      "cell_type": "code",
      "metadata": {
        "id": "d5Lom0GiDRqb"
      },
      "source": [
        "# Select Validation Data Out of Tournament Dataset\n",
        "validationData = tournamentData[tournamentData.data_type=='validation']\n",
        "\n",
        "# Select Validation Data Out of Tournament Dataset\n",
        "testData = tournamentData[tournamentData.data_type=='test']\n",
        "\n",
        "# Select Live Data Out of Tournament Dataset\n",
        "liveData = tournamentData[tournamentData.data_type=='live']"
      ],
      "execution_count": 68,
      "outputs": []
    },
    {
      "cell_type": "code",
      "metadata": {
        "colab": {
          "base_uri": "https://localhost:8080/",
          "height": 251
        },
        "id": "AxL1hBnGD3K7",
        "outputId": "0427332d-a18f-457a-87a5-ea9f2a0fc342"
      },
      "source": [
        "# Print Training Data\n",
        "trainingData.head()"
      ],
      "execution_count": null,
      "outputs": []
    },
    {
      "cell_type": "code",
      "execution_count": null,
      "metadata": {},
      "outputs": [],
      "source": [
        "# Find Unique Items Within The Training Data\n",
        "print(f'UNIQUE ERAS: {trainingData.era.unique()}\\n')\n",
        "print(f'UNIQUE DATA TYPE: {trainingData.data_type.unique()}')"
      ]
    },
    {
      "cell_type": "code",
      "execution_count": null,
      "metadata": {},
      "outputs": [],
      "source": [
        "# Print Tournament Data\n",
        "tournamentData.head()"
      ]
    },
    {
      "cell_type": "code",
      "execution_count": 67,
      "metadata": {},
      "outputs": [
        {
          "output_type": "stream",
          "name": "stdout",
          "text": [
            "UNIQUE DATA TYPE: ['validation' 'test' 'live']\n\nUNIQUE ERAS: ['era121' 'era122' 'era123' 'era124' 'era125' 'era126' 'era127' 'era128'\n 'era129' 'era130' 'era131' 'era132' 'era575' 'era576' 'era577' 'era578'\n 'era579' 'era580' 'era581' 'era582' 'era583' 'era584' 'era585' 'era586'\n 'era587' 'era588' 'era589' 'era590' 'era591' 'era592' 'era593' 'era594'\n 'era595' 'era596' 'era597' 'era598' 'era599' 'era600' 'era601' 'era602'\n 'era603' 'era604' 'era605' 'era606' 'era607' 'era608' 'era609' 'era610'\n 'era611' 'era612' 'era613' 'era614' 'era615' 'era616' 'era617' 'era618'\n 'era619' 'era620' 'era621' 'era622' 'era623' 'era624' 'era625' 'era626'\n 'era627' 'era628' 'era629' 'era630' 'era631' 'era632' 'era633' 'era634'\n 'era635' 'era636' 'era637' 'era638' 'era639' 'era640' 'era641' 'era642'\n 'era643' 'era644' 'era645' 'era646' 'era647' 'era648' 'era649' 'era650'\n 'era651' 'era652' 'era653' 'era654' 'era655' 'era656' 'era657' 'era658'\n 'era659' 'era660' 'era661' 'era662' 'era663' 'era664' 'era665' 'era666'\n 'era667' 'era668' 'era669' 'era670' 'era671' 'era672' 'era673' 'era674'\n 'era675' 'era676' 'era677' 'era678' 'era679' 'era680' 'era681' 'era682'\n 'era683' 'era684' 'era685' 'era686' 'era687' 'era688' 'era689' 'era690'\n 'era691' 'era692' 'era693' 'era694' 'era695' 'era696' 'era697' 'era698'\n 'era699' 'era700' 'era701' 'era702' 'era703' 'era704' 'era705' 'era706'\n 'era707' 'era708' 'era709' 'era710' 'era711' 'era712' 'era713' 'era714'\n 'era715' 'era716' 'era717' 'era718' 'era719' 'era720' 'era721' 'era722'\n 'era723' 'era724' 'era725' 'era726' 'era727' 'era728' 'era729' 'era730'\n 'era731' 'era732' 'era733' 'era734' 'era735' 'era736' 'era737' 'era738'\n 'era739' 'era740' 'era741' 'era742' 'era743' 'era744' 'era745' 'era746'\n 'era747' 'era748' 'era749' 'era750' 'era751' 'era752' 'era753' 'era754'\n 'era755' 'era756' 'era757' 'era758' 'era759' 'era760' 'era761' 'era762'\n 'era763' 'era764' 'era765' 'era766' 'era767' 'era768' 'era769' 'era770'\n 'era771' 'era772' 'era773' 'era774' 'era775' 'era776' 'era777' 'era778'\n 'era779' 'era780' 'era781' 'era782' 'era783' 'era784' 'era785' 'era786'\n 'era787' 'era788' 'era789' 'era790' 'era791' 'era792' 'era793' 'era794'\n 'era795' 'era796' 'era797' 'era798' 'era799' 'era800' 'era801' 'era802'\n 'era803' 'era804' 'era805' 'era806' 'era807' 'era808' 'era809' 'era810'\n 'era811' 'era812' 'era813' 'era814' 'era815' 'era816' 'era817' 'era818'\n 'era819' 'era820' 'era821' 'era822' 'era823' 'era824' 'era825' 'era826'\n 'era827' 'era828' 'era829' 'era830' 'era831' 'era832' 'era833' 'era834'\n 'era835' 'era836' 'era837' 'era838' 'era839' 'era840' 'era841' 'era842'\n 'era843' 'era844' 'era845' 'era846' 'era847' 'era848' 'era849' 'era850'\n 'era851' 'era852' 'era197' 'era198' 'era199' 'era200' 'era201' 'era202'\n 'era203' 'era204' 'era205' 'era206' 'era207' 'era208' 'era209' 'era210'\n 'era211' 'era212' 'era927' 'era928' 'era929' 'era930' 'era931' 'era932'\n 'era933' 'era934' 'era935' 'era936' 'era937' 'era938' 'era939' 'era940'\n 'era941' 'era942' 'era943' 'era944' 'era945' 'era946' 'era947' 'era948'\n 'era949' 'era950' 'era951' 'era952' 'eraX']\n"
          ]
        }
      ],
      "source": [
        "# Find Unique Items Within Tournament Data\n",
        "print(f'UNIQUE DATA TYPE: {tournamentData.data_type.unique()}\\n')\n",
        "print(f'UNIQUE ERAS: {tournamentData.era.unique()}')"
      ]
    },
    {
      "cell_type": "code",
      "execution_count": 64,
      "metadata": {},
      "outputs": [
        {
          "output_type": "stream",
          "name": "stdout",
          "text": [
            "UNIQUE TRAINING TARGETS: [0.5  0.25 0.75 0.   1.  ]\n",
            "UNIQUE VALIDATION TARGETS: [0.25 0.5  1.   0.75 0.  ]\n",
            "UNIQUE TEST TARGETS: [nan]\n",
            "UNIQUE LIVE TARGETS: [nan]\n"
          ]
        }
      ],
      "source": [
        "print(f\"UNIQUE TRAINING TARGETS: {trainingData.target[trainingData.data_type=='train'].unique()}\")\n",
        "print(f\"UNIQUE VALIDATION TARGETS: {tournamentData.target[tournamentData.data_type=='validation'].unique()}\")\n",
        "print(f\"UNIQUE TEST TARGETS: {tournamentData.target[tournamentData.data_type=='test'].unique()}\")\n",
        "print(f\"UNIQUE LIVE TARGETS: {tournamentData.target[tournamentData.data_type=='live'].unique()}\")"
      ]
    },
    {
      "source": [
        "# Feature Engineering"
      ],
      "cell_type": "markdown",
      "metadata": {}
    },
    {
      "cell_type": "code",
      "execution_count": null,
      "metadata": {},
      "outputs": [],
      "source": [
        "def get_group_stats(df: pd.DataFrame) -> pd.DataFrame:\n",
        "    \"\"\"\n",
        "    Create features by calculating statistical moments for each group.\n",
        "    \n",
        "    :param df: Pandas DataFrame containing all features\n",
        "    \"\"\"\n",
        "    for group in [\"intelligence\", \"wisdom\", \"charisma\", \"dexterity\", \"strength\", \"constitution\"]:\n",
        "        cols = [col for col in df.columns if group in col]\n",
        "        df[f\"feature_{group}_mean\"] = df[cols].mean(axis=1)\n",
        "        df[f\"feature_{group}_std\"] = df[cols].std(axis=1)\n",
        "        df[f\"feature_{group}_skew\"] = df[cols].skew(axis=1)\n",
        "    return df\n",
        "\n",
        "trainEng = get_group_stats(trainingData)\n",
        "valEng = get_group_stats(validationData)\n",
        "testEng = get_group_stats(tournamentData)"
      ]
    },
    {
      "cell_type": "markdown",
      "metadata": {
        "id": "Zsow0byDDidK"
      },
      "source": [
        "# Train Model"
      ]
    },
    {
      "cell_type": "code",
      "execution_count": null,
      "metadata": {},
      "outputs": [],
      "source": [
        "# Defnine Linear Regression Model\n",
        "def build_model(neurons=200,dropout=0.2):\n",
        "    model = Sequential()\n",
        "    model.add(Dense(neurons, activation='relu',kernel_initializer='glorot_uniform', use_bias=False))\n",
        "    model.add(BatchNormalization())\n",
        "    model.add(Dropout(dropout))\n",
        "    model.add(Dense(1, activation='sigmoid', kernel_initializer='glorot_normal'))\n",
        "    model.compile(loss='binary_crossentropy', optimizer='adam', metrics=['acc','mse','mae'])\n",
        "    return model\n",
        "\n",
        "model = KerasClassifier(build_fn=create_model, epochs=8, batch_size=128, verbose=0)"
      ]
    },
    {
      "source": [
        "# Validation"
      ],
      "cell_type": "markdown",
      "metadata": {}
    },
    {
      "cell_type": "markdown",
      "metadata": {
        "id": "5cSyUnlmmG1Z"
      },
      "source": [
        "# Generate Predictions"
      ]
    }
  ]
}