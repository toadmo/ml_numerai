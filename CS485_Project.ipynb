{
  "nbformat": 4,
  "nbformat_minor": 0,
  "metadata": {
    "colab": {
      "name": "CS485_Project.ipynb",
      "provenance": []
    },
    "kernelspec": {
      "name": "python388jvsc74a57bd0cd5f46e3198f519a965fc62690decb9b80581385622b2bc0fa17348340787f1f",
      "display_name": "Python 3.8.8 64-bit"
    },
    "language_info": {
      "name": "python",
      "version": "3.8.8-final"
    },
    "metadata": {
      "interpreter": {
        "hash": "cd5f46e3198f519a965fc62690decb9b80581385622b2bc0fa17348340787f1f"
      }
    }
  },
  "cells": [
    {
      "cell_type": "markdown",
      "metadata": {
        "id": "YJ-thlkU_jMa"
      },
      "source": [
        "# 1. Dependencies"
      ]
    },
    {
      "cell_type": "code",
      "metadata": {
        "colab": {
          "base_uri": "https://localhost:8080/"
        },
        "id": "iASoq88Q_PJB",
        "outputId": "a1607133-9ff1-48ac-88d8-155a0b62c51b"
      },
      "source": [
        "# Install Dependencies\n",
        "!pip install pandas sklearn numerapi"
      ],
      "execution_count": 1,
      "outputs": [
        {
          "output_type": "stream",
          "name": "stdout",
          "text": [
            "Requirement already satisfied: pandas in c:\\users\\edward tang\\appdata\\local\\packages\\pythonsoftwarefoundation.python.3.8_qbz5n2kfra8p0\\localcache\\local-packages\\python38\\site-packages (1.2.2)\nRequirement already satisfied: sklearn in c:\\users\\edward tang\\appdata\\local\\packages\\pythonsoftwarefoundation.python.3.8_qbz5n2kfra8p0\\localcache\\local-packages\\python38\\site-packages (0.0)\nRequirement already satisfied: numerapi in c:\\users\\edward tang\\appdata\\local\\packages\\pythonsoftwarefoundation.python.3.8_qbz5n2kfra8p0\\localcache\\local-packages\\python38\\site-packages (2.4.2)\nRequirement already satisfied: click>=7.0 in c:\\users\\edward tang\\appdata\\local\\packages\\pythonsoftwarefoundation.python.3.8_qbz5n2kfra8p0\\localcache\\local-packages\\python38\\site-packages (from numerapi) (7.1.2)\nRequirement already satisfied: tqdm>=4.29.1 in c:\\users\\edward tang\\appdata\\local\\packages\\pythonsoftwarefoundation.python.3.8_qbz5n2kfra8p0\\localcache\\local-packages\\python38\\site-packages (from numerapi) (4.58.0)\nRequirement already satisfied: requests in c:\\users\\edward tang\\appdata\\local\\packages\\pythonsoftwarefoundation.python.3.8_qbz5n2kfra8p0\\localcache\\local-packages\\python38\\site-packages (from numerapi) (2.24.0)\nRequirement already satisfied: python-dateutil in c:\\users\\edward tang\\appdata\\local\\packages\\pythonsoftwarefoundation.python.3.8_qbz5n2kfra8p0\\localcache\\local-packages\\python38\\site-packages (from numerapi) (2.8.1)\nRequirement already satisfied: pytz in c:\\users\\edward tang\\appdata\\local\\packages\\pythonsoftwarefoundation.python.3.8_qbz5n2kfra8p0\\localcache\\local-packages\\python38\\site-packages (from numerapi) (2020.1)\nRequirement already satisfied: numpy>=1.16.5 in c:\\users\\edward tang\\appdata\\local\\packages\\pythonsoftwarefoundation.python.3.8_qbz5n2kfra8p0\\localcache\\local-packages\\python38\\site-packages (from pandas) (1.19.5)\nRequirement already satisfied: six>=1.5 in c:\\users\\edward tang\\appdata\\local\\packages\\pythonsoftwarefoundation.python.3.8_qbz5n2kfra8p0\\localcache\\local-packages\\python38\\site-packages (from python-dateutil->numerapi) (1.15.0)\nRequirement already satisfied: scikit-learn in c:\\users\\edward tang\\appdata\\local\\packages\\pythonsoftwarefoundation.python.3.8_qbz5n2kfra8p0\\localcache\\local-packages\\python38\\site-packages (from sklearn) (0.23.2)\nRequirement already satisfied: chardet<4,>=3.0.2 in c:\\users\\edward tang\\appdata\\local\\packages\\pythonsoftwarefoundation.python.3.8_qbz5n2kfra8p0\\localcache\\local-packages\\python38\\site-packages (from requests->numerapi) (3.0.4)\nRequirement already satisfied: certifi>=2017.4.17 in c:\\users\\edward tang\\appdata\\local\\packages\\pythonsoftwarefoundation.python.3.8_qbz5n2kfra8p0\\localcache\\local-packages\\python38\\site-packages (from requests->numerapi) (2020.6.20)\nRequirement already satisfied: idna<3,>=2.5 in c:\\users\\edward tang\\appdata\\local\\packages\\pythonsoftwarefoundation.python.3.8_qbz5n2kfra8p0\\localcache\\local-packages\\python38\\site-packages (from requests->numerapi) (2.10)\nRequirement already satisfied: urllib3!=1.25.0,!=1.25.1,<1.26,>=1.21.1 in c:\\users\\edward tang\\appdata\\local\\packages\\pythonsoftwarefoundation.python.3.8_qbz5n2kfra8p0\\localcache\\local-packages\\python38\\site-packages (from requests->numerapi) (1.25.10)\nRequirement already satisfied: joblib>=0.11 in c:\\users\\edward tang\\appdata\\local\\packages\\pythonsoftwarefoundation.python.3.8_qbz5n2kfra8p0\\localcache\\local-packages\\python38\\site-packages (from scikit-learn->sklearn) (0.16.0)\nRequirement already satisfied: threadpoolctl>=2.0.0 in c:\\users\\edward tang\\appdata\\local\\packages\\pythonsoftwarefoundation.python.3.8_qbz5n2kfra8p0\\localcache\\local-packages\\python38\\site-packages (from scikit-learn->sklearn) (2.1.0)\nRequirement already satisfied: scipy>=0.19.1 in c:\\users\\edward tang\\appdata\\local\\packages\\pythonsoftwarefoundation.python.3.8_qbz5n2kfra8p0\\localcache\\local-packages\\python38\\site-packages (from scikit-learn->sklearn) (1.5.2)\n"
          ]
        }
      ]
    },
    {
      "cell_type": "code",
      "metadata": {
        "id": "1_mY2fHK_YrS"
      },
      "source": [
        "# Import Dependencies\n",
        "import matplotlib.pyplot as plt\n",
        "import seaborn as sns\n",
        "import pandas as pd\n",
        "import numpy as np\n",
        "import numerapi, time, warnings, itertools\n",
        "from tensorflow.keras.callbacks import ModelCheckpoint, LambdaCallback, EarlyStopping, ReduceLROnPlateau\n",
        "from tensorflow.keras.layers import Dense, Dropout, BatchNormalization, Activation\n",
        "from tensorflow.keras.models import Sequential, load_model\n",
        "from tensorflow.keras.optimizers import RMSprop, Adam\n",
        "from sklearn.model_selection import train_test_split, GroupKFold, GridSearchCV\n",
        "from sklearn.feature_selection import SelectKBest, chi2, f_classif\n",
        "from sklearn.ensemble import RandomForestRegressor\n",
        "from sklearn import preprocessing\n",
        "from keras.wrappers.scikit_learn import KerasClassifier\n",
        "from tensorflow.keras.utils import to_categorical\n",
        "\n",
        "pd.set_option('chained_assignment', None)\n",
        "\n",
        "# ignore warning messages\n",
        "warnings.filterwarnings('ignore')"
      ],
      "execution_count": 73,
      "outputs": []
    },
    {
      "source": [
        "## Background Functions"
      ],
      "cell_type": "markdown",
      "metadata": {}
    },
    {
      "cell_type": "code",
      "execution_count": null,
      "metadata": {},
      "outputs": [],
      "source": [
        "def get_group_stats(df: pd.DataFrame) -> pd.DataFrame:\n",
        "        for group in [\"intelligence\", \"wisdom\", \"charisma\", \"dexterity\", \"strength\", \"constitution\"]:\n",
        "            cols = [col for col in df.columns if group in col]\n",
        "            df[f\"feature_{group}_mean\"] = df[cols].mean(axis=1)\n",
        "            df[f\"feature_{group}_std\"] = df[cols].std(axis=1)\n",
        "            df[f\"feature_{group}_skew\"] = df[cols].skew(axis=1)\n",
        "        return df\n",
        "\n",
        "\n",
        "def sharpe_ratio(corrs: pd.Series) -> np.float32:\n",
        "        \"\"\"\n",
        "        Calculate the Sharpe ratio for Numerai by using grouped per-era data\n",
        "\n",
        "        :param corrs: A Pandas Series containing the Spearman correlations for each era\n",
        "        :return: A float denoting the Sharpe ratio of your predictions.\n",
        "        \"\"\"\n",
        "        return corrs.mean() / corrs.std()\n",
        "\n",
        "\n",
        "def evaluate(df: pd.DataFrame) -> tuple:\n",
        "        \"\"\"\n",
        "        Evaluate and display relevant metrics for Numerai \n",
        "\n",
        "        :param df: A Pandas DataFrame containing the columns \"era\", \"target\" and a column for predictions\n",
        "        :param pred_col: The column where the predictions are stored\n",
        "        :return: A tuple of float containing the metrics\n",
        "        \"\"\"\n",
        "        def _score(sub_df: pd.DataFrame) -> np.float32:\n",
        "            \"\"\"Calculates Spearman correlation\"\"\"\n",
        "            return spearmanr(sub_df[\"target\"], sub_df[\"prediction\"])[0]\n",
        "\n",
        "        # Calculate metrics\n",
        "        corrs = df.groupby(\"era\").apply(_score)\n",
        "        print(corrs)\n",
        "        payout_raw = (corrs / 0.2).clip(-1, 1)\n",
        "        spearman = round(corrs.mean(), 4)\n",
        "\n",
        "        payout = round(payout_raw.mean(), 4)\n",
        "        numerai_sharpe = round(sharpe_ratio(corrs), 4)\n",
        "        mae = mean_absolute_error(df[\"target\"], df[\"prediction\"]).round(4)\n",
        "\n",
        "        # Display metrics\n",
        "        print(f\"Spearman Correlation: {spearman}\")\n",
        "        print(f\"Average Payout: {payout}\")\n",
        "        print(f\"Sharpe Ratio: {numerai_sharpe}\")\n",
        "        print(f\"Mean Absolute Error (MAE): {mae}\")\n",
        "        return spearman, payout, numerai_sharpe, mae"
      ]
    },
    {
      "cell_type": "markdown",
      "metadata": {
        "id": "WUk0RCWXWrUP"
      },
      "source": [
        "# 2. Numerai Tournament API setup"
      ]
    },
    {
      "cell_type": "code",
      "metadata": {
        "id": "gnuUeSAiWvPf"
      },
      "source": [
        "# Get your API keys and model_id from https://numer.ai/submit\n",
        "public_id = \"INSERT PUBLIC ID\"\n",
        "secret_key = \"INSERT SECRET KEY\"\n",
        "model_id = \"INSERT MODEL ID\"\n",
        "napi = numerapi.NumerAPI(public_id=public_id, secret_key=secret_key)"
      ],
      "execution_count": null,
      "outputs": []
    },
    {
      "cell_type": "markdown",
      "metadata": {
        "id": "sUEh-z4D_hBK"
      },
      "source": [
        "# 3. Download Data Sets\n",
        "\n",
        "### Datasets \n",
        "*   `trainingData` is used to train the model\n",
        "*   `tournamentData` is used to evaluate the model\n",
        "\n",
        "### Column descriptions\n",
        "*   id: a randomized id that corresponds to a stock \n",
        "*   era: a period of time\n",
        "*   data_type: either `train`, `validation`, `test`, or `live` \n",
        "*   feature_*: abstract financial features of the stock \n",
        "*   target: abstract measure of stock performance\n"
      ]
    },
    {
      "cell_type": "code",
      "metadata": {
        "id": "0_WfC75D_sFk"
      },
      "source": [
        "# Download Training Data From Numerai\n",
        "start = time.time()\n",
        "print(f\"[{time.asctime()}] Downloading the lastest training data set. Current round is: {numerapi.NumerAPI(verbosity='info').get_current_round()}...\\n\")\n",
        "trainingData = pd.read_csv(\"https://numerai-public-datasets.s3-us-west-2.amazonaws.com/latest_numerai_training_data.csv.xz\", header=0)\n",
        "end = time.time()\n",
        "print(f\"[{time.asctime()}] Training dataset has been loaded. It took {end - start:0.2f} seconds\")"
      ],
      "execution_count": 74,
      "outputs": [
        {
          "output_type": "stream",
          "name": "stdout",
          "text": [
            "[Wed Apr  7 21:23:18 2021] Downloading the lastest training data set. Current round is: 258...\n",
            "\n",
            "[Wed Apr  7 21:24:25 2021] Training dataset has been loaded. It took 66.56 seconds\n"
          ]
        }
      ]
    },
    {
      "cell_type": "code",
      "execution_count": null,
      "metadata": {},
      "outputs": [],
      "source": [
        "# Download Tournament Data From Numerai\n",
        "start = time.time()\n",
        "print(f\"[{time.asctime()}] Downloading the lastest tournament data set. Current round is: {numerapi.NumerAPI(verbosity='info').get_current_round()}...\\n\")\n",
        "tournamentData = pd.read_csv(\"https://numerai-public-datasets.s3-us-west-2.amazonaws.com/latest_numerai_tournament_data.csv.xz\", header=0)\n",
        "end = time.time()\n",
        "print(f\"[{time.asctime()}] Tournament dataset has been loaded. It took {end - start:0.2f} seconds\")"
      ]
    },
    {
      "source": [
        "# 4. Explore The Dataset"
      ],
      "cell_type": "markdown",
      "metadata": {}
    },
    {
      "cell_type": "code",
      "metadata": {
        "colab": {
          "base_uri": "https://localhost:8080/",
          "height": 251
        },
        "id": "AxL1hBnGD3K7",
        "outputId": "0427332d-a18f-457a-87a5-ea9f2a0fc342"
      },
      "source": [
        "# Print Training Data\n",
        "trainingData.head()"
      ],
      "execution_count": null,
      "outputs": []
    },
    {
      "cell_type": "code",
      "execution_count": null,
      "metadata": {},
      "outputs": [],
      "source": [
        "# Find Unique Items Within The Training Data\n",
        "print(f'{len(trainingData.era.unique())} UNIQUE ERAS: {trainingData.era.unique()}\\n')\n",
        "print(f'{len(trainingData.data_type.unique())} UNIQUE DATA TYPE: {trainingData.data_type.unique()}')"
      ]
    },
    {
      "cell_type": "code",
      "execution_count": null,
      "metadata": {},
      "outputs": [],
      "source": [
        "# Print Tournament Data\n",
        "tournamentData.head()"
      ]
    },
    {
      "cell_type": "code",
      "execution_count": null,
      "metadata": {},
      "outputs": [],
      "source": [
        "# Find Unique Items Within Tournament Data\n",
        "print(f'{len(tournamentData.data_type.unique())} UNIQUE DATA TYPE: {tournamentData.data_type.unique()}\\n')\n",
        "print(f'{len(tournamentData.era.unique())} UNIQUE ERAS: {tournamentData.era.unique()}')"
      ]
    },
    {
      "cell_type": "code",
      "metadata": {
        "id": "d5Lom0GiDRqb"
      },
      "source": [
        "# Select Validation Data Out of Tournament Dataset\n",
        "validationData = tournamentData[tournamentData.data_type=='validation']\n",
        "\n",
        "# Select Test Data Out of Tournament Dataset\n",
        "testData = tournamentData[tournamentData.data_type=='test']\n",
        "\n",
        "# Select Live Data Out of Tournament Dataset\n",
        "liveData = tournamentData[tournamentData.data_type=='live']"
      ],
      "execution_count": null,
      "outputs": []
    },
    {
      "cell_type": "code",
      "execution_count": null,
      "metadata": {},
      "outputs": [],
      "source": [
        "print(f\"UNIQUE TRAINING TARGETS: {trainingData.target[trainingData.data_type=='train'].unique()}\")\n",
        "print(f\"UNIQUE VALIDATION TARGETS: {tournamentData.target[tournamentData.data_type=='validation'].unique()}\")\n",
        "print(f\"UNIQUE TEST TARGETS: {tournamentData.target[tournamentData.data_type=='test'].unique()}\")\n",
        "print(f\"UNIQUE LIVE TARGETS: {tournamentData.target[tournamentData.data_type=='live'].unique()}\")"
      ]
    },
    {
      "cell_type": "code",
      "execution_count": null,
      "metadata": {},
      "outputs": [],
      "source": [
        "# Plot heatmap of feature correlation\n",
        "plt.figure(figsize=(30,30))\n",
        "sns.heatmap(trainingData.corr())"
      ]
    },
    {
      "cell_type": "code",
      "execution_count": null,
      "metadata": {},
      "outputs": [],
      "source": [
        "# Extract era numbers\n",
        "trainingData[\"erano\"] = trainingData.era.str.slice(3).astype(int)\n",
        "plt.figure(figsize=[14, 6])\n",
        "trainingData.groupby(trainingData['erano'])[\"target\"].size().plot(title=\"Era sizes\", figsize=(14, 8))"
      ]
    },
    {
      "cell_type": "code",
      "execution_count": null,
      "metadata": {},
      "outputs": [],
      "source": [
        "feats = [f for f in trainingData.columns if \"feature\" in f]\n",
        "plt.figure(figsize=(15, 5))\n",
        "sns.histplot(pd.DataFrame(trainingData[feats].std()),bins=100)\n",
        "plt.legend([\"Train\"], fontsize=20)\n",
        "plt.title(\"Standard deviations over training features in the data\", weight='bold', fontsize=20)"
      ]
    },
    {
      "cell_type": "code",
      "execution_count": null,
      "metadata": {},
      "outputs": [],
      "source": [
        "feats = [f for f in trainingData.columns if \"feature\" in f]\n",
        "plt.figure(figsize=(15, 5))\n",
        "sns.histplot(pd.DataFrame(validationData[feats].std()),bins=100)\n",
        "plt.legend([\"Val\"], fontsize=20)\n",
        "plt.title(\"Standard deviations over validation features in the data\", weight='bold', fontsize=20)"
      ]
    },
    {
      "cell_type": "code",
      "execution_count": null,
      "metadata": {},
      "outputs": [],
      "source": [
        "feats = [f for f in trainingData.columns if \"feature\" in f]\n",
        "plt.figure(figsize=(15, 5))\n",
        "sns.histplot(pd.DataFrame(testData[feats].std()), bins=100)\n",
        "plt.legend([\"Test\"], fontsize=20)\n",
        "plt.title(\"Standard deviations over test features in the data\", weight='bold', fontsize=20)"
      ]
    },
    {
      "cell_type": "code",
      "execution_count": null,
      "metadata": {},
      "outputs": [],
      "source": [
        "feats = [f for f in trainingData.columns if \"feature\" in f]\n",
        "plt.figure(figsize=(15, 5))\n",
        "sns.distplot(pd.DataFrame(trainingData[feats].std()),bins=100)\n",
        "sns.distplot(pd.DataFrame(validationData[feats].std()),bins=100)\n",
        "sns.distplot(pd.DataFrame(testData[feats].std()), bins=100)\n",
        "plt.legend([\"Train\", \"Val\", \"Test\"], fontsize=20)\n",
        "plt.title(\"Standard deviations over all features in the data\", weight='bold', fontsize=20)"
      ]
    },
    {
      "source": [
        "# 5. Feature Engineering"
      ],
      "cell_type": "markdown",
      "metadata": {}
    },
    {
      "cell_type": "code",
      "execution_count": 75,
      "metadata": {
        "tags": []
      },
      "outputs": [],
      "source": [
        "# Feature Correlation With Target Based On Era\n",
        "\n",
        "# Extract Unique Eras From Training Data\n",
        "eras = list(trainingData.era.unique())\n",
        "eraList = []\n",
        "for era in eras:\n",
        "    eraData = trainingData[trainingData.era==era]\n",
        "\n",
        "    # Calculate Correlations With Target\n",
        "    eraCorr = eraData.corr()\n",
        "    corrWithTarget = eraCorr[\"target\"].T.apply(abs).sort_values(ascending=False)\n",
        "\n",
        "    # Select Features With Highest Correlation To The Target Variable\n",
        "    features = corrWithTarget[:20]\n",
        "    features.drop(\"target\", inplace=True)\n",
        "\n",
        "    featureList = features.tolist()\n",
        "    eraList.append(featureList)\n",
        "\n",
        "    # # Write To A File\n",
        "    with open(f\"Correlations Round{numerapi.NumerAPI(verbosity='info').get_current_round()}.txt\",'a') as f:\n",
        "        f.write(f\"Top 10 Features in {era} according to correlation with target:\\n\")\n",
        "        f.write(f'{features[:10]}\\n\\n')"
      ]
    },
    {
      "cell_type": "code",
      "execution_count": null,
      "metadata": {},
      "outputs": [],
      "source": [
        "eraCorrList, topEras = [], []\n",
        "\n",
        "for (era, corrs) in zip(eras, eraList):\n",
        "    # Find Correlation Average Based On Era\n",
        "    corrTot = 0\n",
        "    for corr in corrs:\n",
        "        corrTot += corr\n",
        "    corrAVG = corrTot / len(corrs)\n",
        "    eraCorrList.append([era, corrAVG])\n",
        "\n",
        "# Sort Era Correlation List By Correlation Average\n",
        "eraCorrList.sort(key=lambda eraCorrList: eraCorrList[1], reverse=True)\n",
        "\n",
        "# Select The Top Correlated Eras\n",
        "for i in range(len(eraCorrList)):\n",
        "    if i == 20:\n",
        "        break\n",
        "    topEras.append(eraCorrList[i][0])"
      ]
    },
    {
      "cell_type": "code",
      "execution_count": null,
      "metadata": {},
      "outputs": [],
      "source": [
        "# Create New Training Data Set\n",
        "headers = [h for h in trainingData.columns]\n",
        "dataFrameList = [pd.DataFrame(columns=headers)]\n",
        "for eras in topEras:\n",
        "    df = trainingData[trainingData.era==eras]]\n",
        "    dataFrameList.append(df)\n",
        "# eras = [era for era in topEras]\n",
        "# print(f\"[{time.asctime()}] Creating new training data set based on top correlated features.\")\n",
        "# trainingDataEng = pd.concat([trainingDataEng,trainingData[trainingData.era==eras]],axis=1)\n",
        "# print(f\"[{time.asctime()}] Finished creating new training data set based on top correlated features.\")"
      ]
    },
    {
      "cell_type": "code",
      "execution_count": null,
      "metadata": {},
      "outputs": [],
      "source": [
        "trainingDataEng"
      ]
    },
    {
      "cell_type": "code",
      "execution_count": null,
      "metadata": {},
      "outputs": [],
      "source": [
        "interactions = preprocessing.PolynomialFeatures(degree=2, interaction_only=True, include_bias=False)\n",
        "\n",
        "interactions.fit(trainingData[featureList], trainingData[\"target\"])\n",
        "\n",
        "X_train_interact = pd.DataFrame(interactions.transform(trainingData[featureList]))\n",
        "\n",
        "train=pd.concat([trainingData,X_train_interact],axis=1)\n",
        "train"
      ]
    },
    {
      "cell_type": "code",
      "execution_count": null,
      "metadata": {},
      "outputs": [],
      "source": [
        "# Select Features From Training Data\n",
        "trainingDataX = to_categorical(trainingDataEng[trainingDataEng.columns[trainingDataEng.columns.str.startswith('feature')]])\n",
        "\n",
        "# Select Targets From Training Data\n",
        "trainingDataY = trainingData[trainingData.columns[trainingData.columns.str.startswith('target')]]\n",
        "\n",
        "# Converrt to numpy arrays\n",
        "trainingDataX = np.array(trainingDataX)\n",
        "trainingDataY = np.array(trainingDataY)"
      ]
    },
    {
      "cell_type": "code",
      "execution_count": null,
      "metadata": {},
      "outputs": [],
      "source": [
        "# Split Up Data\n",
        "xTrain, xTest, yTrain, yTest = train_test_split(trainingDataX, trainingDataY, test_size = 0.25)"
      ]
    },
    {
      "cell_type": "markdown",
      "metadata": {
        "id": "Zsow0byDDidK"
      },
      "source": [
        "# 6. Train Model"
      ]
    },
    {
      "cell_type": "code",
      "execution_count": 2,
      "metadata": {},
      "outputs": [
        {
          "output_type": "error",
          "ename": "NameError",
          "evalue": "name 'wandb' is not defined",
          "traceback": [
            "\u001b[1;31m---------------------------------------------------------------------------\u001b[0m",
            "\u001b[1;31mNameError\u001b[0m                                 Traceback (most recent call last)",
            "\u001b[1;32m<ipython-input-2-9132cae32124>\u001b[0m in \u001b[0;36m<module>\u001b[1;34m\u001b[0m\n\u001b[0;32m     16\u001b[0m    }\n\u001b[0;32m     17\u001b[0m }\n\u001b[1;32m---> 18\u001b[1;33m \u001b[0msweep_id\u001b[0m \u001b[1;33m=\u001b[0m \u001b[0mwandb\u001b[0m\u001b[1;33m.\u001b[0m\u001b[0msweep\u001b[0m\u001b[1;33m(\u001b[0m\u001b[0msweep_config\u001b[0m\u001b[1;33m,\u001b[0m \u001b[0mproject\u001b[0m\u001b[1;33m=\u001b[0m\u001b[1;34m\"numerai_tutorial\"\u001b[0m\u001b[1;33m)\u001b[0m\u001b[1;33m\u001b[0m\u001b[1;33m\u001b[0m\u001b[0m\n\u001b[0m\u001b[0;32m     19\u001b[0m \u001b[1;33m\u001b[0m\u001b[0m\n\u001b[0;32m     20\u001b[0m \u001b[0mdtrain\u001b[0m \u001b[1;33m=\u001b[0m \u001b[0mlgb\u001b[0m\u001b[1;33m.\u001b[0m\u001b[0mDataset\u001b[0m\u001b[1;33m(\u001b[0m\u001b[0mtrain\u001b[0m\u001b[1;33m[\u001b[0m\u001b[0mfeature_list\u001b[0m\u001b[1;33m]\u001b[0m\u001b[1;33m,\u001b[0m \u001b[0mlabel\u001b[0m\u001b[1;33m=\u001b[0m\u001b[0mtrain\u001b[0m\u001b[1;33m[\u001b[0m\u001b[1;34m\"target\"\u001b[0m\u001b[1;33m]\u001b[0m\u001b[1;33m)\u001b[0m\u001b[1;33m\u001b[0m\u001b[1;33m\u001b[0m\u001b[0m\n",
            "\u001b[1;31mNameError\u001b[0m: name 'wandb' is not defined"
          ]
        }
      ],
      "source": [
        "# Using LightGBM to determine most important hyperparaemeters:\n",
        "import wandb\n",
        "\n",
        "sweep_config = {\n",
        "   'method': 'grid',\n",
        "   'metric': {\n",
        "          'name': 'mse',\n",
        "          'goal': 'minimize'   \n",
        "        },\n",
        "   'parameters': {\n",
        "       \"num_leaves\": {'values': [30, 40, 50]}, \n",
        "       \"max_depth\": {'values': [4, 5, 6]}, \n",
        "       \"learning_rate\": {'values': [0.05, 0.01, 0.005]},\n",
        "       \"bagging_freq\": {'values': [7]}, \n",
        "       \"bagging_fraction\": {'values': [0.6, 0.7, 0.8]}, \n",
        "       \"feature_fraction\": {'values': [0.85, 0.75, 0.65]},\n",
        "   }\n",
        "}\n",
        "sweep_id = wandb.sweep(sweep_config, project=\"numerai_tutorial\")\n",
        "\n",
        "dtrain = lgb.Dataset(train[feature_list], label=train[\"target\"])\n",
        "dvalid = lgb.Dataset(val[feature_list], label=val[\"target\"])\n",
        "watchlist = [dtrain, dvalid]\n",
        "\n",
        "def _train():\n",
        "    # Configure and train model\n",
        "    wandb.init(project=\"numerai_tutorial\", name=\"LightGBM_sweep\")\n",
        "    lgbm_config = {\"num_leaves\": wandb.config.num_leaves, \n",
        "                   \"max_depth\": wandb.config.max_depth, \n",
        "                   \"learning_rate\": wandb.config.learning_rate,\n",
        "                   \"bagging_freq\": wandb.config.bagging_freq, \n",
        "                   \"bagging_fraction\": wandb.config.bagging_fraction, \n",
        "                   \"feature_fraction\": wandb.config.feature_fraction,\n",
        "                   \"metric\": 'mse', \n",
        "                   \"random_state\": seed}\n",
        "    lgbm_model = lgb.train(lgbm_config, \n",
        "                           train_set=dtrain, \n",
        "                           num_boost_round=500, \n",
        "                           valid_sets=watchlist, \n",
        "                           callbacks=[wandb_callback()], \n",
        "                           verbose_eval=100, \n",
        "                           early_stopping_rounds=50)\n",
        "    \n",
        "    # Create predictions for evaluation\n",
        "    val_preds = lgbm_model.predict(val[feature_list], num_iteration=lgbm_model.best_iteration)\n",
        "    val.loc[:, \"prediction\"] = val_preds\n",
        "    # W&b log metrics\n",
        "    spearman, payout, feature_exposure, numerai_sharpe, mae = evaluate(val)\n",
        "    wandb.log({\"Spearman\": spearman, \"Payout\": payout, \"Feature Exposure\": feature_exposure, \n",
        "               \"Numerai Sharpe Ratio\": numerai_sharpe, \"Mean Absolute Error\": mae})\n",
        "    \n",
        "# Run sweep\n",
        "wandb.agent(sweep_id, function=_train)"
      ]
    },
    {
      "cell_type": "code",
      "execution_count": null,
      "metadata": {},
      "outputs": [],
      "source": [
        "# Instantiate model with 1000 decision trees\n",
        "rf = RandomForestRegressor(n_estimators = 1000, verbose=1, random_state=42, n_jobs=-2)\n",
        "\n",
        "# Train the model on training data\n",
        "rf.fit(xTrain, yTrain.flatten())"
      ]
    },
    {
      "source": [
        "# 7. Validation"
      ],
      "cell_type": "markdown",
      "metadata": {}
    },
    {
      "cell_type": "code",
      "execution_count": null,
      "metadata": {},
      "outputs": [],
      "source": [
        "validationDataX = validationData[feature_list]\n",
        "validationDataX = to_categorical(validationDataX[validationDataX.columns[validationDataX.columns.str.startswith('feature')]])\n",
        "\n",
        "validationDataY = validationData[validationData.columns[validationData.columns.str.startswith('target')]]\n",
        "validationDataX"
      ]
    },
    {
      "cell_type": "code",
      "execution_count": null,
      "metadata": {},
      "outputs": [],
      "source": [
        "predictions = rf.predict(validationDataX)"
      ]
    },
    {
      "cell_type": "code",
      "execution_count": null,
      "metadata": {},
      "outputs": [],
      "source": [
        "validationDataY.values.flatten()"
      ]
    },
    {
      "cell_type": "code",
      "execution_count": null,
      "metadata": {},
      "outputs": [],
      "source": [
        "predictions"
      ]
    },
    {
      "cell_type": "markdown",
      "metadata": {
        "id": "5cSyUnlmmG1Z"
      },
      "source": [
        "# 8. Generate Predictions"
      ]
    },
    {
      "cell_type": "code",
      "execution_count": null,
      "metadata": {},
      "outputs": [],
      "source": [
        "# Performance metrics\n",
        "errors = abs(predictions - validationDataY)\n",
        "print('Metrics for Random Forest Trained on Expanded Data')\n",
        "print('Average absolute error:', round(np.mean(errors), 2), 'degrees.')\n",
        "# Calculate mean absolute percentage error (MAPE)\n",
        "mape = np.mean(100 * (errors / test_labels))\n",
        "# Compare to baseline\n",
        "improvement_baseline = 100 * abs(mape - baseline_mape) / baseline_mape\n",
        "print('Improvement over baseline:', round(improvement_baseline, 2), '%.')\n",
        "# Calculate and display accuracy\n",
        "accuracy = 100 - mape\n",
        "print('Accuracy:', round(accuracy, 2), '%.')"
      ]
    },
    {
      "cell_type": "code",
      "execution_count": null,
      "metadata": {},
      "outputs": [],
      "source": [
        "# predictions must have an `id` column and a `prediction_kazutsugi` column\n",
        "predictions_df = tournament_data[\"id\"].to_frame()\n",
        "predictions_df[\"prediction_kazutsugi\"] = predictions\n",
        "predictions_df.head()"
      ]
    },
    {
      "cell_type": "code",
      "execution_count": null,
      "metadata": {},
      "outputs": [],
      "source": [
        "# Upload your predictions\n",
        "predictions_df.to_csv(\"predictions.csv\", index=False)\n",
        "submission_id = napi.upload_predictions(\"predictions.csv\", model_id=model_id)"
      ]
    },
    {
      "source": [
        "# 9. Works Cited\n",
        "- https://tit-btcqash.medium.com/a-comprehensive-guide-to-competing-at-numerai-70b356edbe07\n",
        "- https://towardsdatascience.com/random-forest-in-python-24d0893d51c0\n",
        "- https://realpython.com/python-timer/\n",
        "- https://www.kaggle.com/carlolepelaars/how-to-get-started-with-numerai\n",
        "- https://medium.com/machine-learning-in-practice/cheat-sheet-of-machine-learning-and-python-and-math-cheat-sheets-a4afe4e791b6\n",
        "- https://towardsdatascience.com/a-guide-to-the-hardest-data-science-tournament-on-the-planet-748f46e83690\n",
        "- https://towardsdatascience.com/improving-random-forest-in-python-part-1-893916666cd\n",
        "- https://www.geeksforgeeks.org/python-flatten-a-2d-numpy-array-into-1d-array/\n",
        "- https://docs.numer.ai/tournament/learn\n",
        "- https://forum.numer.ai/t/advice-from-the-kaggle-which-ive-found-very-useful/300\n",
        "- https://forum.numer.ai/t/model-diagnostics-feature-exposure/899\n",
        "- https://towardsdatascience.com/data-correlation-can-make-or-break-your-machine-learning-project-82ee11039cc9\n",
        "- https://www.geeksforgeeks.org/python-sort-list-of-list-by-specified-index/\n",
        "- "
      ],
      "cell_type": "markdown",
      "metadata": {}
    }
  ]
}