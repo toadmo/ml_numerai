{
  "nbformat": 4,
  "nbformat_minor": 0,
  "metadata": {
    "colab": {
      "name": "Making your first submission on Numerai",
      "provenance": [],
      "collapsed_sections": []
    },
    "kernelspec": {
      "name": "python3",
      "display_name": "Python 3",
      "language": "python"
    }
  },
  "cells": [
    {
      "cell_type": "markdown",
      "metadata": {
        "id": "RUD4ylfaLZA6"
      },
      "source": [
        "# Making your first submission on Numerai\n",
        "\n",
        "## Introduction \n",
        "This tutorial will go over how to create your first submission on Numerai.\n",
        "\n",
        "## Overview\n",
        "\n",
        "1. Using this notebook\n",
        "2. Download the datasets\n",
        "3. Train your first model\n",
        "4. Generate your first predictions\n",
        "4. Make your first submission\n",
        "\n",
        "\n",
        "---\n"
      ]
    },
    {
      "cell_type": "markdown",
      "metadata": {
        "id": "dioJyoTnxEm3"
      },
      "source": [
        "\n",
        "## 1. Using this notebook \n",
        "\n",
        "This is an interactive notebook. You can execute code in each cell by pressing `shift+enter`. This requires you to login with your Google account.\n",
        "\n",
        "In order to make changes, you need to make a copy by `File -> Save a copy in Drive`.\n",
        "\n",
        "Let's start off by installing and importing our dependencies."
      ]
    },
    {
      "cell_type": "code",
      "metadata": {
        "id": "zDKQ_zqwTBf6"
      },
      "source": [
        "# install dependencies\n",
        "!pip install pandas sklearn numerapi tensorflow"
      ],
      "execution_count": 1,
      "outputs": [
        {
          "output_type": "stream",
          "name": "stdout",
          "text": [
            "Requirement already satisfied: pandas in c:\\users\\mason\\anaconda3\\lib\\site-packages (1.1.3)\nRequirement already satisfied: sklearn in c:\\users\\mason\\anaconda3\\lib\\site-packages (0.0)\nRequirement already satisfied: numerapi in c:\\users\\mason\\anaconda3\\lib\\site-packages (2.4.3)\nRequirement already satisfied: tensorflow in c:\\users\\mason\\anaconda3\\lib\\site-packages (2.4.1)\nRequirement already satisfied: python-dateutil>=2.7.3 in c:\\users\\mason\\anaconda3\\lib\\site-packages (from pandas) (2.8.1)\nRequirement already satisfied: pytz>=2017.2 in c:\\users\\mason\\anaconda3\\lib\\site-packages (from pandas) (2020.1)\nRequirement already satisfied: numpy>=1.15.4 in c:\\users\\mason\\anaconda3\\lib\\site-packages (from pandas) (1.19.2)\nRequirement already satisfied: scikit-learn in c:\\users\\mason\\anaconda3\\lib\\site-packages (from sklearn) (0.23.2)\nRequirement already satisfied: tqdm>=4.29.1 in c:\\users\\mason\\anaconda3\\lib\\site-packages (from numerapi) (4.50.2)\nRequirement already satisfied: click>=7.0 in c:\\users\\mason\\anaconda3\\lib\\site-packages (from numerapi) (7.1.2)\nRequirement already satisfied: requests in c:\\users\\mason\\anaconda3\\lib\\site-packages (from numerapi) (2.24.0)\nRequirement already satisfied: google-pasta~=0.2 in c:\\users\\mason\\anaconda3\\lib\\site-packages (from tensorflow) (0.2.0)\nRequirement already satisfied: absl-py~=0.10 in c:\\users\\mason\\anaconda3\\lib\\site-packages (from tensorflow) (0.11.0)\nRequirement already satisfied: keras-preprocessing~=1.1.2 in c:\\users\\mason\\anaconda3\\lib\\site-packages (from tensorflow) (1.1.2)\nRequirement already satisfied: h5py~=2.10.0 in c:\\users\\mason\\anaconda3\\lib\\site-packages (from tensorflow) (2.10.0)\nRequirement already satisfied: gast==0.3.3 in c:\\users\\mason\\anaconda3\\lib\\site-packages (from tensorflow) (0.3.3)\nRequirement already satisfied: astunparse~=1.6.3 in c:\\users\\mason\\anaconda3\\lib\\site-packages (from tensorflow) (1.6.3)\nRequirement already satisfied: wheel~=0.35 in c:\\users\\mason\\anaconda3\\lib\\site-packages (from tensorflow) (0.35.1)\nRequirement already satisfied: protobuf>=3.9.2 in c:\\users\\mason\\anaconda3\\lib\\site-packages (from tensorflow) (3.15.5)\nRequirement already satisfied: tensorboard~=2.4 in c:\\users\\mason\\anaconda3\\lib\\site-packages (from tensorflow) (2.4.1)\nRequirement already satisfied: tensorflow-estimator<2.5.0,>=2.4.0 in c:\\users\\mason\\anaconda3\\lib\\site-packages (from tensorflow) (2.4.0)\nRequirement already satisfied: flatbuffers~=1.12.0 in c:\\users\\mason\\anaconda3\\lib\\site-packages (from tensorflow) (1.12)\nRequirement already satisfied: typing-extensions~=3.7.4 in c:\\users\\mason\\anaconda3\\lib\\site-packages (from tensorflow) (3.7.4.3)\nRequirement already satisfied: termcolor~=1.1.0 in c:\\users\\mason\\anaconda3\\lib\\site-packages (from tensorflow) (1.1.0)\nRequirement already satisfied: opt-einsum~=3.3.0 in c:\\users\\mason\\anaconda3\\lib\\site-packages (from tensorflow) (3.3.0)\nRequirement already satisfied: six~=1.15.0 in c:\\users\\mason\\anaconda3\\lib\\site-packages (from tensorflow) (1.15.0)\nRequirement already satisfied: wrapt~=1.12.1 in c:\\users\\mason\\anaconda3\\lib\\site-packages (from tensorflow) (1.12.1)\nRequirement already satisfied: grpcio~=1.32.0 in c:\\users\\mason\\anaconda3\\lib\\site-packages (from tensorflow) (1.32.0)\nRequirement already satisfied: scipy>=0.19.1 in c:\\users\\mason\\anaconda3\\lib\\site-packages (from scikit-learn->sklearn) (1.5.2)\nRequirement already satisfied: threadpoolctl>=2.0.0 in c:\\users\\mason\\anaconda3\\lib\\site-packages (from scikit-learn->sklearn) (2.1.0)\nRequirement already satisfied: joblib>=0.11 in c:\\users\\mason\\anaconda3\\lib\\site-packages (from scikit-learn->sklearn) (0.17.0)\nRequirement already satisfied: chardet<4,>=3.0.2 in c:\\users\\mason\\anaconda3\\lib\\site-packages (from requests->numerapi) (3.0.4)\nRequirement already satisfied: certifi>=2017.4.17 in c:\\users\\mason\\anaconda3\\lib\\site-packages (from requests->numerapi) (2020.6.20)\nRequirement already satisfied: idna<3,>=2.5 in c:\\users\\mason\\anaconda3\\lib\\site-packages (from requests->numerapi) (2.10)\nRequirement already satisfied: urllib3!=1.25.0,!=1.25.1,<1.26,>=1.21.1 in c:\\users\\mason\\anaconda3\\lib\\site-packages (from requests->numerapi) (1.25.11)\nRequirement already satisfied: setuptools>=41.0.0 in c:\\users\\mason\\anaconda3\\lib\\site-packages (from tensorboard~=2.4->tensorflow) (50.3.1.post20201107)\nRequirement already satisfied: markdown>=2.6.8 in c:\\users\\mason\\anaconda3\\lib\\site-packages (from tensorboard~=2.4->tensorflow) (3.3.4)\nRequirement already satisfied: werkzeug>=0.11.15 in c:\\users\\mason\\anaconda3\\lib\\site-packages (from tensorboard~=2.4->tensorflow) (1.0.1)\nRequirement already satisfied: google-auth-oauthlib<0.5,>=0.4.1 in c:\\users\\mason\\anaconda3\\lib\\site-packages (from tensorboard~=2.4->tensorflow) (0.4.3)\nRequirement already satisfied: tensorboard-plugin-wit>=1.6.0 in c:\\users\\mason\\anaconda3\\lib\\site-packages (from tensorboard~=2.4->tensorflow) (1.8.0)\nRequirement already satisfied: google-auth<2,>=1.6.3 in c:\\users\\mason\\anaconda3\\lib\\site-packages (from tensorboard~=2.4->tensorflow) (1.27.1)\nRequirement already satisfied: requests-oauthlib>=0.7.0 in c:\\users\\mason\\anaconda3\\lib\\site-packages (from google-auth-oauthlib<0.5,>=0.4.1->tensorboard~=2.4->tensorflow) (1.3.0)\nRequirement already satisfied: cachetools<5.0,>=2.0.0 in c:\\users\\mason\\anaconda3\\lib\\site-packages (from google-auth<2,>=1.6.3->tensorboard~=2.4->tensorflow) (4.2.1)\nRequirement already satisfied: rsa<5,>=3.1.4; python_version >= \"3.6\" in c:\\users\\mason\\anaconda3\\lib\\site-packages (from google-auth<2,>=1.6.3->tensorboard~=2.4->tensorflow) (4.7.2)\nRequirement already satisfied: pyasn1-modules>=0.2.1 in c:\\users\\mason\\anaconda3\\lib\\site-packages (from google-auth<2,>=1.6.3->tensorboard~=2.4->tensorflow) (0.2.8)\nRequirement already satisfied: oauthlib>=3.0.0 in c:\\users\\mason\\anaconda3\\lib\\site-packages (from requests-oauthlib>=0.7.0->google-auth-oauthlib<0.5,>=0.4.1->tensorboard~=2.4->tensorflow) (3.1.0)\nRequirement already satisfied: pyasn1>=0.1.3 in c:\\users\\mason\\anaconda3\\lib\\site-packages (from rsa<5,>=3.1.4; python_version >= \"3.6\"->google-auth<2,>=1.6.3->tensorboard~=2.4->tensorflow) (0.4.8)\n"
          ]
        }
      ]
    },
    {
      "cell_type": "code",
      "metadata": {
        "id": "MaNpcfNkKUg_"
      },
      "source": [
        "# import dependencies\n",
        "import pandas as pd\n",
        "import numpy as np\n",
        "import numerapi\n",
        "import sklearn.linear_model\n",
        "import matplotlib.pyplot as plt\n",
        "import warnings\n",
        "from tensorflow.keras.models import Sequential\n",
        "from tensorflow.keras.callbacks import ModelCheckpoint\n",
        "from tensorflow.keras.layers import Dropout, Flatten, LSTM, GRU\n",
        "from tensorflow.keras.optimizers import RMSprop, Adam\n",
        "from tensorflow.keras.models import load_model\n",
        "from sklearn.model_selection import train_test_split\n",
        "from sklearn import preprocessing\n",
        "from tensorflow.keras.utils import to_categorical\n",
        "from tensorflow.keras import regularizers"
      ],
      "execution_count": 20,
      "outputs": []
    },
    {
      "cell_type": "markdown",
      "metadata": {
        "id": "5uUN-aE_08kW"
      },
      "source": [
        "## 2. Download the datasets\n",
        "\n",
        "### Datasets \n",
        "*   `training_data` is used to train your model\n",
        "*   `tournament_data` is used to evaluate your model\n",
        "\n",
        "### Column descriptions\n",
        "*   id: a randomized id that corresponds to a stock \n",
        "*   era: a period of time\n",
        "*   data_type: either `train`, `validation`, `test`, or `live` \n",
        "*   feature_*: abstract financial features of the stock \n",
        "*   target: abstract measure of stock performance\n",
        "\n",
        "\n"
      ]
    },
    {
      "cell_type": "code",
      "metadata": {
        "id": "EyB8NsbUNNWR",
        "colab": {
          "base_uri": "https://localhost:8080/",
          "height": 253
        },
        "outputId": "a8d06706-0fbc-4b5c-deb2-29f5e5947a8a"
      },
      "source": [
        "# download the latest training dataset (takes around 30s)\n",
        "training_data = pd.read_csv(\"https://numerai-public-datasets.s3-us-west-2.amazonaws.com/latest_numerai_training_data.csv.xz\")\n",
        "training_data.head()"
      ],
      "execution_count": 7,
      "outputs": [
        {
          "output_type": "execute_result",
          "data": {
            "text/plain": [
              "                 id   era data_type  feature_intelligence1  \\\n",
              "0  n000315175b67977  era1     train                   0.00   \n",
              "1  n0014af834a96cdd  era1     train                   0.00   \n",
              "2  n001c93979ac41d4  era1     train                   0.25   \n",
              "3  n0034e4143f22a13  era1     train                   1.00   \n",
              "4  n00679d1a636062f  era1     train                   0.25   \n",
              "\n",
              "   feature_intelligence2  feature_intelligence3  feature_intelligence4  \\\n",
              "0                   0.50                   0.25                   0.00   \n",
              "1                   0.00                   0.00                   0.25   \n",
              "2                   0.50                   0.25                   0.25   \n",
              "3                   0.00                   0.00                   0.50   \n",
              "4                   0.25                   0.25                   0.25   \n",
              "\n",
              "   feature_intelligence5  feature_intelligence6  feature_intelligence7  ...  \\\n",
              "0                    0.5                   0.25                   0.25  ...   \n",
              "1                    0.5                   0.00                   0.00  ...   \n",
              "2                    1.0                   0.75                   0.75  ...   \n",
              "3                    0.5                   0.25                   0.25  ...   \n",
              "4                    0.0                   0.25                   0.50  ...   \n",
              "\n",
              "   feature_wisdom38  feature_wisdom39  feature_wisdom40  feature_wisdom41  \\\n",
              "0              1.00              1.00              0.75              0.50   \n",
              "1              1.00              1.00              0.00              0.00   \n",
              "2              0.25              0.50              0.00              0.00   \n",
              "3              1.00              1.00              0.75              0.75   \n",
              "4              0.75              0.75              0.25              0.50   \n",
              "\n",
              "   feature_wisdom42  feature_wisdom43  feature_wisdom44  feature_wisdom45  \\\n",
              "0              0.75              0.50              1.00              0.50   \n",
              "1              0.75              0.25              0.00              0.25   \n",
              "2              0.50              1.00              0.00              0.25   \n",
              "3              1.00              1.00              0.75              1.00   \n",
              "4              0.75              0.00              0.50              0.25   \n",
              "\n",
              "   feature_wisdom46  target  \n",
              "0              0.75    0.50  \n",
              "1              1.00    0.25  \n",
              "2              0.75    0.25  \n",
              "3              1.00    0.25  \n",
              "4              0.75    0.75  \n",
              "\n",
              "[5 rows x 314 columns]"
            ],
            "text/html": "<div>\n<style scoped>\n    .dataframe tbody tr th:only-of-type {\n        vertical-align: middle;\n    }\n\n    .dataframe tbody tr th {\n        vertical-align: top;\n    }\n\n    .dataframe thead th {\n        text-align: right;\n    }\n</style>\n<table border=\"1\" class=\"dataframe\">\n  <thead>\n    <tr style=\"text-align: right;\">\n      <th></th>\n      <th>id</th>\n      <th>era</th>\n      <th>data_type</th>\n      <th>feature_intelligence1</th>\n      <th>feature_intelligence2</th>\n      <th>feature_intelligence3</th>\n      <th>feature_intelligence4</th>\n      <th>feature_intelligence5</th>\n      <th>feature_intelligence6</th>\n      <th>feature_intelligence7</th>\n      <th>...</th>\n      <th>feature_wisdom38</th>\n      <th>feature_wisdom39</th>\n      <th>feature_wisdom40</th>\n      <th>feature_wisdom41</th>\n      <th>feature_wisdom42</th>\n      <th>feature_wisdom43</th>\n      <th>feature_wisdom44</th>\n      <th>feature_wisdom45</th>\n      <th>feature_wisdom46</th>\n      <th>target</th>\n    </tr>\n  </thead>\n  <tbody>\n    <tr>\n      <th>0</th>\n      <td>n000315175b67977</td>\n      <td>era1</td>\n      <td>train</td>\n      <td>0.00</td>\n      <td>0.50</td>\n      <td>0.25</td>\n      <td>0.00</td>\n      <td>0.5</td>\n      <td>0.25</td>\n      <td>0.25</td>\n      <td>...</td>\n      <td>1.00</td>\n      <td>1.00</td>\n      <td>0.75</td>\n      <td>0.50</td>\n      <td>0.75</td>\n      <td>0.50</td>\n      <td>1.00</td>\n      <td>0.50</td>\n      <td>0.75</td>\n      <td>0.50</td>\n    </tr>\n    <tr>\n      <th>1</th>\n      <td>n0014af834a96cdd</td>\n      <td>era1</td>\n      <td>train</td>\n      <td>0.00</td>\n      <td>0.00</td>\n      <td>0.00</td>\n      <td>0.25</td>\n      <td>0.5</td>\n      <td>0.00</td>\n      <td>0.00</td>\n      <td>...</td>\n      <td>1.00</td>\n      <td>1.00</td>\n      <td>0.00</td>\n      <td>0.00</td>\n      <td>0.75</td>\n      <td>0.25</td>\n      <td>0.00</td>\n      <td>0.25</td>\n      <td>1.00</td>\n      <td>0.25</td>\n    </tr>\n    <tr>\n      <th>2</th>\n      <td>n001c93979ac41d4</td>\n      <td>era1</td>\n      <td>train</td>\n      <td>0.25</td>\n      <td>0.50</td>\n      <td>0.25</td>\n      <td>0.25</td>\n      <td>1.0</td>\n      <td>0.75</td>\n      <td>0.75</td>\n      <td>...</td>\n      <td>0.25</td>\n      <td>0.50</td>\n      <td>0.00</td>\n      <td>0.00</td>\n      <td>0.50</td>\n      <td>1.00</td>\n      <td>0.00</td>\n      <td>0.25</td>\n      <td>0.75</td>\n      <td>0.25</td>\n    </tr>\n    <tr>\n      <th>3</th>\n      <td>n0034e4143f22a13</td>\n      <td>era1</td>\n      <td>train</td>\n      <td>1.00</td>\n      <td>0.00</td>\n      <td>0.00</td>\n      <td>0.50</td>\n      <td>0.5</td>\n      <td>0.25</td>\n      <td>0.25</td>\n      <td>...</td>\n      <td>1.00</td>\n      <td>1.00</td>\n      <td>0.75</td>\n      <td>0.75</td>\n      <td>1.00</td>\n      <td>1.00</td>\n      <td>0.75</td>\n      <td>1.00</td>\n      <td>1.00</td>\n      <td>0.25</td>\n    </tr>\n    <tr>\n      <th>4</th>\n      <td>n00679d1a636062f</td>\n      <td>era1</td>\n      <td>train</td>\n      <td>0.25</td>\n      <td>0.25</td>\n      <td>0.25</td>\n      <td>0.25</td>\n      <td>0.0</td>\n      <td>0.25</td>\n      <td>0.50</td>\n      <td>...</td>\n      <td>0.75</td>\n      <td>0.75</td>\n      <td>0.25</td>\n      <td>0.50</td>\n      <td>0.75</td>\n      <td>0.00</td>\n      <td>0.50</td>\n      <td>0.25</td>\n      <td>0.75</td>\n      <td>0.75</td>\n    </tr>\n  </tbody>\n</table>\n<p>5 rows × 314 columns</p>\n</div>"
          },
          "metadata": {},
          "execution_count": 7
        }
      ]
    },
    {
      "cell_type": "code",
      "metadata": {
        "id": "6GkhBurt73Fi",
        "colab": {
          "base_uri": "https://localhost:8080/",
          "height": 253
        },
        "outputId": "aeb5461c-5abd-41e2-92d0-3c151faf8eff"
      },
      "source": [
        "# download the latest tournament dataset (takes around 30s)\n",
        "tournament_data = pd.read_csv(\"https://numerai-public-datasets.s3-us-west-2.amazonaws.com/latest_numerai_tournament_data.csv.xz\")\n",
        "tournament_data.head()"
      ],
      "execution_count": 19,
      "outputs": [
        {
          "output_type": "execute_result",
          "data": {
            "text/plain": [
              "                 id     era   data_type  feature_intelligence1  \\\n",
              "0  n0003aa52cab36c2  era121  validation                   0.25   \n",
              "1  n000920ed083903f  era121  validation                   0.75   \n",
              "2  n0038e640522c4a6  era121  validation                   1.00   \n",
              "3  n004ac94a87dc54b  era121  validation                   0.75   \n",
              "4  n0052fe97ea0c05f  era121  validation                   0.25   \n",
              "\n",
              "   feature_intelligence2  feature_intelligence3  feature_intelligence4  \\\n",
              "0                   0.75                   0.50                   0.50   \n",
              "1                   0.50                   0.75                   1.00   \n",
              "2                   0.00                   0.00                   1.00   \n",
              "3                   1.00                   1.00                   0.50   \n",
              "4                   0.50                   0.50                   0.25   \n",
              "\n",
              "   feature_intelligence5  feature_intelligence6  feature_intelligence7  ...  \\\n",
              "0                    0.0                   0.75                    0.5  ...   \n",
              "1                    0.5                   0.00                    0.0  ...   \n",
              "2                    1.0                   1.00                    1.0  ...   \n",
              "3                    0.0                   0.00                    0.0  ...   \n",
              "4                    1.0                   0.50                    0.5  ...   \n",
              "\n",
              "   feature_wisdom38  feature_wisdom39  feature_wisdom40  feature_wisdom41  \\\n",
              "0              0.75              0.75              1.00              0.75   \n",
              "1              0.50              0.50              0.75              1.00   \n",
              "2              0.00              0.00              0.50              0.25   \n",
              "3              0.00              0.00              0.00              0.25   \n",
              "4              0.50              0.75              0.00              0.00   \n",
              "\n",
              "   feature_wisdom42  feature_wisdom43  feature_wisdom44  feature_wisdom45  \\\n",
              "0              0.50               0.5               1.0              0.00   \n",
              "1              0.75               0.5               0.5              0.50   \n",
              "2              0.00               0.0               0.5              0.50   \n",
              "3              0.00               0.0               0.0              0.25   \n",
              "4              0.75               1.0               0.0              0.25   \n",
              "\n",
              "   feature_wisdom46  target  \n",
              "0              0.00    0.25  \n",
              "1              0.50    0.50  \n",
              "2              0.00    1.00  \n",
              "3              0.25    0.50  \n",
              "4              1.00    0.75  \n",
              "\n",
              "[5 rows x 314 columns]"
            ],
            "text/html": "<div>\n<style scoped>\n    .dataframe tbody tr th:only-of-type {\n        vertical-align: middle;\n    }\n\n    .dataframe tbody tr th {\n        vertical-align: top;\n    }\n\n    .dataframe thead th {\n        text-align: right;\n    }\n</style>\n<table border=\"1\" class=\"dataframe\">\n  <thead>\n    <tr style=\"text-align: right;\">\n      <th></th>\n      <th>id</th>\n      <th>era</th>\n      <th>data_type</th>\n      <th>feature_intelligence1</th>\n      <th>feature_intelligence2</th>\n      <th>feature_intelligence3</th>\n      <th>feature_intelligence4</th>\n      <th>feature_intelligence5</th>\n      <th>feature_intelligence6</th>\n      <th>feature_intelligence7</th>\n      <th>...</th>\n      <th>feature_wisdom38</th>\n      <th>feature_wisdom39</th>\n      <th>feature_wisdom40</th>\n      <th>feature_wisdom41</th>\n      <th>feature_wisdom42</th>\n      <th>feature_wisdom43</th>\n      <th>feature_wisdom44</th>\n      <th>feature_wisdom45</th>\n      <th>feature_wisdom46</th>\n      <th>target</th>\n    </tr>\n  </thead>\n  <tbody>\n    <tr>\n      <th>0</th>\n      <td>n0003aa52cab36c2</td>\n      <td>era121</td>\n      <td>validation</td>\n      <td>0.25</td>\n      <td>0.75</td>\n      <td>0.50</td>\n      <td>0.50</td>\n      <td>0.0</td>\n      <td>0.75</td>\n      <td>0.5</td>\n      <td>...</td>\n      <td>0.75</td>\n      <td>0.75</td>\n      <td>1.00</td>\n      <td>0.75</td>\n      <td>0.50</td>\n      <td>0.5</td>\n      <td>1.0</td>\n      <td>0.00</td>\n      <td>0.00</td>\n      <td>0.25</td>\n    </tr>\n    <tr>\n      <th>1</th>\n      <td>n000920ed083903f</td>\n      <td>era121</td>\n      <td>validation</td>\n      <td>0.75</td>\n      <td>0.50</td>\n      <td>0.75</td>\n      <td>1.00</td>\n      <td>0.5</td>\n      <td>0.00</td>\n      <td>0.0</td>\n      <td>...</td>\n      <td>0.50</td>\n      <td>0.50</td>\n      <td>0.75</td>\n      <td>1.00</td>\n      <td>0.75</td>\n      <td>0.5</td>\n      <td>0.5</td>\n      <td>0.50</td>\n      <td>0.50</td>\n      <td>0.50</td>\n    </tr>\n    <tr>\n      <th>2</th>\n      <td>n0038e640522c4a6</td>\n      <td>era121</td>\n      <td>validation</td>\n      <td>1.00</td>\n      <td>0.00</td>\n      <td>0.00</td>\n      <td>1.00</td>\n      <td>1.0</td>\n      <td>1.00</td>\n      <td>1.0</td>\n      <td>...</td>\n      <td>0.00</td>\n      <td>0.00</td>\n      <td>0.50</td>\n      <td>0.25</td>\n      <td>0.00</td>\n      <td>0.0</td>\n      <td>0.5</td>\n      <td>0.50</td>\n      <td>0.00</td>\n      <td>1.00</td>\n    </tr>\n    <tr>\n      <th>3</th>\n      <td>n004ac94a87dc54b</td>\n      <td>era121</td>\n      <td>validation</td>\n      <td>0.75</td>\n      <td>1.00</td>\n      <td>1.00</td>\n      <td>0.50</td>\n      <td>0.0</td>\n      <td>0.00</td>\n      <td>0.0</td>\n      <td>...</td>\n      <td>0.00</td>\n      <td>0.00</td>\n      <td>0.00</td>\n      <td>0.25</td>\n      <td>0.00</td>\n      <td>0.0</td>\n      <td>0.0</td>\n      <td>0.25</td>\n      <td>0.25</td>\n      <td>0.50</td>\n    </tr>\n    <tr>\n      <th>4</th>\n      <td>n0052fe97ea0c05f</td>\n      <td>era121</td>\n      <td>validation</td>\n      <td>0.25</td>\n      <td>0.50</td>\n      <td>0.50</td>\n      <td>0.25</td>\n      <td>1.0</td>\n      <td>0.50</td>\n      <td>0.5</td>\n      <td>...</td>\n      <td>0.50</td>\n      <td>0.75</td>\n      <td>0.00</td>\n      <td>0.00</td>\n      <td>0.75</td>\n      <td>1.0</td>\n      <td>0.0</td>\n      <td>0.25</td>\n      <td>1.00</td>\n      <td>0.75</td>\n    </tr>\n  </tbody>\n</table>\n<p>5 rows × 314 columns</p>\n</div>"
          },
          "metadata": {},
          "execution_count": 19
        }
      ]
    },
    {
      "cell_type": "code",
      "metadata": {
        "id": "ESazJMMzN--g"
      },
      "source": [
        "# find and select only the feature columns\n",
        "feature_cols = training_data.columns[training_data.columns.str.startswith('feature')]\n",
        "training_features = training_data[feature_cols]\n",
        "\n",
        "target_cols = training_data.columns[training_data.columns.str.startswith('target')]\n",
        "training_targets = training_data[target_cols]\n",
        "training_targets"
      ],
      "execution_count": 25,
      "outputs": [
        {
          "output_type": "execute_result",
          "data": {
            "text/plain": [
              "        target\n",
              "0         0.50\n",
              "1         0.25\n",
              "2         0.25\n",
              "3         0.25\n",
              "4         0.75\n",
              "...        ...\n",
              "501803    0.50\n",
              "501804    0.75\n",
              "501805    0.25\n",
              "501806    0.50\n",
              "501807    0.50\n",
              "\n",
              "[501808 rows x 1 columns]"
            ],
            "text/html": "<div>\n<style scoped>\n    .dataframe tbody tr th:only-of-type {\n        vertical-align: middle;\n    }\n\n    .dataframe tbody tr th {\n        vertical-align: top;\n    }\n\n    .dataframe thead th {\n        text-align: right;\n    }\n</style>\n<table border=\"1\" class=\"dataframe\">\n  <thead>\n    <tr style=\"text-align: right;\">\n      <th></th>\n      <th>target</th>\n    </tr>\n  </thead>\n  <tbody>\n    <tr>\n      <th>0</th>\n      <td>0.50</td>\n    </tr>\n    <tr>\n      <th>1</th>\n      <td>0.25</td>\n    </tr>\n    <tr>\n      <th>2</th>\n      <td>0.25</td>\n    </tr>\n    <tr>\n      <th>3</th>\n      <td>0.25</td>\n    </tr>\n    <tr>\n      <th>4</th>\n      <td>0.75</td>\n    </tr>\n    <tr>\n      <th>...</th>\n      <td>...</td>\n    </tr>\n    <tr>\n      <th>501803</th>\n      <td>0.50</td>\n    </tr>\n    <tr>\n      <th>501804</th>\n      <td>0.75</td>\n    </tr>\n    <tr>\n      <th>501805</th>\n      <td>0.25</td>\n    </tr>\n    <tr>\n      <th>501806</th>\n      <td>0.50</td>\n    </tr>\n    <tr>\n      <th>501807</th>\n      <td>0.50</td>\n    </tr>\n  </tbody>\n</table>\n<p>501808 rows × 1 columns</p>\n</div>"
          },
          "metadata": {},
          "execution_count": 25
        }
      ]
    },
    {
      "cell_type": "code",
      "metadata": {
        "id": "2AuNXbVmRQDp",
        "colab": {
          "base_uri": "https://localhost:8080/",
          "height": 34
        },
        "outputId": "d88d95fd-09f7-47ac-9ee7-3e0bacd47cae"
      },
      "source": [
        "# create a model and fit the training data (~30 sec to run)\n",
        "model = Sequential()\n",
        "model.add(GRU())\n",
        "model.add(LSTM())\n",
        "model.fit()"
      ],
      "execution_count": 17,
      "outputs": [
        {
          "output_type": "execute_result",
          "data": {
            "text/plain": [
              "LinearRegression()"
            ]
          },
          "metadata": {},
          "execution_count": 17
        }
      ]
    },
    {
      "cell_type": "markdown",
      "metadata": {
        "id": "Uxx5pLIGIUvN"
      },
      "source": [
        "## 4. Generate your first predictions\n",
        "Now that we have a trained model, we can use it to make predictions on the tournament data.\n",
        "\n"
      ]
    },
    {
      "cell_type": "code",
      "metadata": {
        "id": "HIcmOiJYSmJI"
      },
      "source": [
        "# select the feature columns from the tournament data\n",
        "live_features = tournament_data[feature_cols]"
      ],
      "execution_count": 21,
      "outputs": []
    },
    {
      "cell_type": "code",
      "metadata": {
        "id": "t4CoaCgbKcSN"
      },
      "source": [
        "# predict the target on the live features\n",
        "predictions = model.predict(live_features)"
      ],
      "execution_count": 22,
      "outputs": []
    },
    {
      "cell_type": "code",
      "metadata": {
        "id": "4L4BFeAzTTDe",
        "colab": {
          "base_uri": "https://localhost:8080/",
          "height": 204
        },
        "outputId": "692b78f5-20b1-4431-8d53-ceef876f8101"
      },
      "source": [
        "# predictions must have an `id` column and a `prediction` column\n",
        "predictions_df = tournament_data[\"id\"].to_frame()\n",
        "predictions_df[\"prediction\"] = predictions\n",
        "predictions_df"
      ],
      "execution_count": 29,
      "outputs": [
        {
          "output_type": "execute_result",
          "data": {
            "text/plain": [
              "                       id  prediction\n",
              "0        n0003aa52cab36c2    0.481608\n",
              "1        n000920ed083903f    0.492837\n",
              "2        n0038e640522c4a6    0.530817\n",
              "3        n004ac94a87dc54b    0.497083\n",
              "4        n0052fe97ea0c05f    0.503089\n",
              "...                   ...         ...\n",
              "1665893  nffcbaaa118a9c2a    0.484762\n",
              "1665894  nffd1dc6e0f798a6    0.501685\n",
              "1665895  nffdfcf0fb116595    0.500577\n",
              "1665896  nfff187c15c3ede1    0.486233\n",
              "1665897  nfffe16fb4524553    0.510238\n",
              "\n",
              "[1665898 rows x 2 columns]"
            ],
            "text/html": "<div>\n<style scoped>\n    .dataframe tbody tr th:only-of-type {\n        vertical-align: middle;\n    }\n\n    .dataframe tbody tr th {\n        vertical-align: top;\n    }\n\n    .dataframe thead th {\n        text-align: right;\n    }\n</style>\n<table border=\"1\" class=\"dataframe\">\n  <thead>\n    <tr style=\"text-align: right;\">\n      <th></th>\n      <th>id</th>\n      <th>prediction</th>\n    </tr>\n  </thead>\n  <tbody>\n    <tr>\n      <th>0</th>\n      <td>n0003aa52cab36c2</td>\n      <td>0.481608</td>\n    </tr>\n    <tr>\n      <th>1</th>\n      <td>n000920ed083903f</td>\n      <td>0.492837</td>\n    </tr>\n    <tr>\n      <th>2</th>\n      <td>n0038e640522c4a6</td>\n      <td>0.530817</td>\n    </tr>\n    <tr>\n      <th>3</th>\n      <td>n004ac94a87dc54b</td>\n      <td>0.497083</td>\n    </tr>\n    <tr>\n      <th>4</th>\n      <td>n0052fe97ea0c05f</td>\n      <td>0.503089</td>\n    </tr>\n    <tr>\n      <th>...</th>\n      <td>...</td>\n      <td>...</td>\n    </tr>\n    <tr>\n      <th>1665893</th>\n      <td>nffcbaaa118a9c2a</td>\n      <td>0.484762</td>\n    </tr>\n    <tr>\n      <th>1665894</th>\n      <td>nffd1dc6e0f798a6</td>\n      <td>0.501685</td>\n    </tr>\n    <tr>\n      <th>1665895</th>\n      <td>nffdfcf0fb116595</td>\n      <td>0.500577</td>\n    </tr>\n    <tr>\n      <th>1665896</th>\n      <td>nfff187c15c3ede1</td>\n      <td>0.486233</td>\n    </tr>\n    <tr>\n      <th>1665897</th>\n      <td>nfffe16fb4524553</td>\n      <td>0.510238</td>\n    </tr>\n  </tbody>\n</table>\n<p>1665898 rows × 2 columns</p>\n</div>"
          },
          "metadata": {},
          "execution_count": 29
        }
      ]
    },
    {
      "cell_type": "markdown",
      "metadata": {
        "id": "AQ0sgtPiLDys"
      },
      "source": [
        "## 5. Make your first submission\n",
        "To enter the tournament, we must submit the predictions back to Numerai. We will use the `numerapi` library to do this."
      ]
    },
    {
      "cell_type": "code",
      "metadata": {
        "id": "rEfqpxcEWDdK"
      },
      "source": [
        "# Get your API keys and model_id from https://numer.ai/notebook\n",
        "public_id = \"REPLACEME\"\n",
        "secret_key = \"REPLACEME\"\n",
        "model_id = \"REPLACEME\"\n",
        "napi = numerapi.NumerAPI(public_id=public_id, secret_key=secret_key)"
      ],
      "execution_count": null,
      "outputs": []
    },
    {
      "cell_type": "code",
      "metadata": {
        "id": "WeAIJHaoW3VU"
      },
      "source": [
        "# Upload your predictions\n",
        "predictions_df.to_csv(\"predictions.csv\", index=False)\n",
        "submission_id = napi.upload_predictions(\"predictions.csv\", model_id=model_id)"
      ],
      "execution_count": null,
      "outputs": []
    },
    {
      "cell_type": "markdown",
      "metadata": {
        "id": "_Jc2NgEgQEKF"
      },
      "source": [
        "# Done 🚀\n",
        "Good job! You just made your first submission on Numerai!\n",
        "\n",
        "Head back over to https://numer.ai/notebook to continue."
      ]
    }
  ]
}